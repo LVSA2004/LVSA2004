{
  "nbformat": 4,
  "nbformat_minor": 0,
  "metadata": {
    "colab": {
      "provenance": [],
      "authorship_tag": "ABX9TyMt7ZluuoZKNzSdbxBKGHwI",
      "include_colab_link": true
    },
    "kernelspec": {
      "name": "python3",
      "display_name": "Python 3"
    },
    "language_info": {
      "name": "python"
    }
  },
  "cells": [
    {
      "cell_type": "markdown",
      "metadata": {
        "id": "view-in-github",
        "colab_type": "text"
      },
      "source": [
        "<a href=\"https://colab.research.google.com/github/LVSA2004/LVSA2004/blob/main/Desafiofrexco.ipynb\" target=\"_parent\"><img src=\"https://colab.research.google.com/assets/colab-badge.svg\" alt=\"Open In Colab\"/></a>"
      ]
    },
    {
      "cell_type": "code",
      "source": [
        "import pandas as pd\n",
        "from sklearn.linear_model import LinearRegression\n",
        "\n",
        "# carrega a Tabela no dataframe pandas \n",
        "df = pd.read_csv(\"Dados.csv\")\n",
        "\n",
        "# Separa a coluna de Dias e de Vendas em arrays seprados\n",
        "dias = df['Dia'].values.reshape(-1, 1)\n",
        "vendas = df['Vendas'].values\n",
        "\n",
        "# Treina os modelos em um modelo de Regressão Linear\n",
        "model = LinearRegression()\n",
        "model.fit(dias, vendas)\n",
        "\n",
        "# Calcula a Previsão de Demando dos próximos 5 dias\n",
        "forecast_days = [[day] for day in range(len(dias)+1, len(dias)+6)]\n",
        "forecast = model.predict(forecast_days)\n",
        "\n",
        "# Imprime a Previsão de Demanda\n",
        "print(\"Previsão de Demanda:\")\n",
        "for day, demand in zip(forecast_days, forecast):\n",
        "    print(f\"Day {day[0]}: {demand}\")\n"
      ],
      
