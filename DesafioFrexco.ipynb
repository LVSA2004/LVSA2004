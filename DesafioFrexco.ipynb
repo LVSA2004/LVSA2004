{
  "nbformat": 4,
  "nbformat_minor": 0,
  "metadata": {
    "colab": {
      "provenance": [],
      "authorship_tag": "ABX9TyPSbVTZ8O5A0gY3QuBt0tGQ"
    },
    "kernelspec": {
      "name": "python3",
      "display_name": "Python 3"
    },
    "language_info": {
      "name": "python"
    }
  },
  "cells": [
    {
      "cell_type": "code",
      "source": [
        "import pandas as pd\n",
        "import numpy as np"
      ],
      "metadata": {
        "id": "spBd8eMy2H4S"
      },
      "execution_count": 242,
      "outputs": []
    },
    {
      "cell_type": "code",
      "source": [
        "#Carrega a Tabela no Dataframe Pandas\n",
        "df = pd.read_csv('Dados.csv')"
      ],
      "metadata": {
        "id": "6edPRD4gPqQz"
      },
      "execution_count": 241,
      "outputs": []
    },
    {
      "cell_type": "code",
      "source": [
        "# Calcula a média móvel dos últimos 7 dias\n",
        "df['moving_avg'] = df['Vendas'].rolling(window=46).mean()"
      ],
      "metadata": {
        "id": "UaaobXlEPhEa"
      },
      "execution_count": 243,
      "outputs": []
    },
    {
      "cell_type": "code",
      "source": [
        "# Usa a média Móvel para calcular a Previsão de Demanda\n",
        "forecast = []\n",
        "for i in range(1, 6):\n",
        "    forecast.append(df['moving_avg'].iloc[-1])"
      ],
      "metadata": {
        "id": "qHCe5-bJPjKZ"
      },
      "execution_count": 245,
      "outputs": []
    },
    {
      "cell_type": "code",
      "source": [
        "# Adicionas os dados calculados no DataFrame\n",
        "forecast_df = pd.DataFrame({'Dias': range(len(df)+1, len(df)+6),\n",
        "                           'Forecast': forecast})\n",
        "df = df.append(forecast_df, ignore_index=True)\n"
      ],
      "metadata": {
        "id": "vi3wTeGWPlIR"
      },
      "execution_count": 246,
      "outputs": []
    },
    {
      "cell_type": "code",
      "source": [
        "# Imprime os dados do Dataframe\n",
        "print(df)"
      ],
      "metadata": {
        "id": "f2nSmOLvPnAi"
      },
      "execution_count": null,
      "outputs": []
    }
  ]
}